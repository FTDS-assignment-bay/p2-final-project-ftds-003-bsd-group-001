{
 "cells": [
  {
   "cell_type": "code",
   "execution_count": 1,
   "metadata": {},
   "outputs": [],
   "source": [
    "import pickle\n",
    "import json\n",
    "import pandas as pd\n",
    "import numpy as np"
   ]
  },
  {
   "cell_type": "code",
   "execution_count": 3,
   "metadata": {},
   "outputs": [],
   "source": [
    "with open('xgb.pkl', 'rb') as file_1: \n",
    "  xgb = pickle.load(file_1)\n",
    "with open('scaler.pkl', 'rb') as file_2: \n",
    " scaler = pickle.load(file_2)\n",
    "with open('ohe.pkl', 'rb') as file_3: \n",
    "  ohe = pickle.load(file_3)\n",
    "with open('n_col.txt','r') as file_4:\n",
    " n_col = json.load(file_4)\n",
    "with open('c_col.txt', 'r') as file_5:\n",
    " c_col = json.load(file_5)"
   ]
  },
  {
   "cell_type": "code",
   "execution_count": 4,
   "metadata": {},
   "outputs": [
    {
     "data": {
      "text/html": [
       "<div>\n",
       "<style scoped>\n",
       "    .dataframe tbody tr th:only-of-type {\n",
       "        vertical-align: middle;\n",
       "    }\n",
       "\n",
       "    .dataframe tbody tr th {\n",
       "        vertical-align: top;\n",
       "    }\n",
       "\n",
       "    .dataframe thead th {\n",
       "        text-align: right;\n",
       "    }\n",
       "</style>\n",
       "<table border=\"1\" class=\"dataframe\">\n",
       "  <thead>\n",
       "    <tr style=\"text-align: right;\">\n",
       "      <th></th>\n",
       "      <th>ship_mode</th>\n",
       "      <th>segment</th>\n",
       "      <th>city</th>\n",
       "      <th>state</th>\n",
       "      <th>region</th>\n",
       "      <th>category</th>\n",
       "      <th>sub_category</th>\n",
       "      <th>product_name</th>\n",
       "      <th>sales</th>\n",
       "      <th>quantity</th>\n",
       "      <th>discount</th>\n",
       "      <th>order_year</th>\n",
       "      <th>order_month</th>\n",
       "      <th>order_day</th>\n",
       "      <th>order_day_of_week</th>\n",
       "      <th>is_weekend</th>\n",
       "      <th>shipping_duration</th>\n",
       "      <th>unit_price</th>\n",
       "      <th>price_cluster</th>\n",
       "      <th>distinct_cluster_label</th>\n",
       "    </tr>\n",
       "  </thead>\n",
       "  <tbody>\n",
       "    <tr>\n",
       "      <th>0</th>\n",
       "      <td>Second Class</td>\n",
       "      <td>Consumer</td>\n",
       "      <td>San Diego</td>\n",
       "      <td>California</td>\n",
       "      <td>West</td>\n",
       "      <td>Furniture</td>\n",
       "      <td>Tables</td>\n",
       "      <td>Bretford CR4500 Series Slim Rectangular Table</td>\n",
       "      <td>276</td>\n",
       "      <td>5</td>\n",
       "      <td>0.1</td>\n",
       "      <td>2016</td>\n",
       "      <td>11</td>\n",
       "      <td>8</td>\n",
       "      <td>2</td>\n",
       "      <td>1</td>\n",
       "      <td>7</td>\n",
       "      <td>23</td>\n",
       "      <td>1</td>\n",
       "      <td>Fasteners_0</td>\n",
       "    </tr>\n",
       "  </tbody>\n",
       "</table>\n",
       "</div>"
      ],
      "text/plain": [
       "      ship_mode   segment       city       state region   category  \\\n",
       "0  Second Class  Consumer  San Diego  California   West  Furniture   \n",
       "\n",
       "  sub_category                                   product_name  sales  \\\n",
       "0       Tables  Bretford CR4500 Series Slim Rectangular Table    276   \n",
       "\n",
       "   quantity  discount  order_year  order_month  order_day  order_day_of_week  \\\n",
       "0         5       0.1        2016           11          8                  2   \n",
       "\n",
       "   is_weekend  shipping_duration  unit_price  price_cluster  \\\n",
       "0           1                  7          23              1   \n",
       "\n",
       "  distinct_cluster_label  \n",
       "0            Fasteners_0  "
      ]
     },
     "execution_count": 4,
     "metadata": {},
     "output_type": "execute_result"
    }
   ],
   "source": [
    "df_inf = { #make new dataframe for inference\n",
    "'ship_mode': 'Second Class', \n",
    "'segment': 'Consumer', \n",
    "'city': 'San Diego', \n",
    "'state':'California', \n",
    "'region':'West', \n",
    "'category':'Furniture',\n",
    "'sub_category': 'Tables', \n",
    "'product_name':'Bretford CR4500 Series Slim Rectangular Table', \n",
    "'sales': 276, \n",
    "'quantity': 5,\n",
    "'discount': 0.1,\n",
    "'order_year':2016, \n",
    "'order_month':11, \n",
    "'order_day':8, \n",
    "'order_day_of_week':2,\n",
    "'is_weekend': 1, \n",
    "'shipping_duration':7, \n",
    "'unit_price':23,\n",
    "'price_cluster':1,\n",
    "'distinct_cluster_label': 'Fasteners_0'\n",
    "}\n",
    "\n",
    "df_inf = pd.DataFrame([df_inf])\n",
    "df_inf"
   ]
  },
  {
   "cell_type": "code",
   "execution_count": 5,
   "metadata": {},
   "outputs": [],
   "source": [
    "df_inf_n = df_inf[n_col]\n",
    "df_inf_c = df_inf[c_col]"
   ]
  },
  {
   "cell_type": "code",
   "execution_count": 6,
   "metadata": {},
   "outputs": [],
   "source": [
    "df_inf_n_scaled = scaler.transform(df_inf_n)\n",
    "df_inf_c_encoded = ohe.transform(df_inf_c).toarray()"
   ]
  },
  {
   "cell_type": "code",
   "execution_count": 7,
   "metadata": {},
   "outputs": [],
   "source": [
    "df_inf_final = np.concatenate([df_inf_n_scaled,df_inf_c_encoded], axis = 1)"
   ]
  },
  {
   "cell_type": "code",
   "execution_count": 8,
   "metadata": {},
   "outputs": [
    {
     "name": "stdout",
     "output_type": "stream",
     "text": [
      "profit: 35.6\n"
     ]
    }
   ],
   "source": [
    "y_pred_inf = xgb.predict(df_inf_final) #from the data, the profit will be 35.6\n",
    "print('profit:', round(y_pred_inf[0],2))"
   ]
  }
 ],
 "metadata": {
  "kernelspec": {
   "display_name": "base",
   "language": "python",
   "name": "python3"
  },
  "language_info": {
   "codemirror_mode": {
    "name": "ipython",
    "version": 3
   },
   "file_extension": ".py",
   "mimetype": "text/x-python",
   "name": "python",
   "nbconvert_exporter": "python",
   "pygments_lexer": "ipython3",
   "version": "3.11.5"
  }
 },
 "nbformat": 4,
 "nbformat_minor": 2
}
